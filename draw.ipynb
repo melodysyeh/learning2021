{
  "nbformat": 4,
  "nbformat_minor": 0,
  "metadata": {
    "colab": {
      "name": "Welcome To Colaboratory",
      "provenance": [],
      "collapsed_sections": [],
      "toc_visible": true,
      "include_colab_link": true
    },
    "kernelspec": {
      "display_name": "Python 3",
      "name": "python3"
    }
  },
  "cells": [
    {
      "cell_type": "markdown",
      "metadata": {
        "id": "view-in-github",
        "colab_type": "text"
      },
      "source": [
        "<a href=\"https://colab.research.google.com/github/melodysyeh/learning2021/blob/main/draw.ipynb\" target=\"_parent\"><img src=\"https://colab.research.google.com/assets/colab-badge.svg\" alt=\"Open In Colab\"/></a>"
      ]
    },
    {
      "cell_type": "code",
      "metadata": {
        "colab": {
          "base_uri": "https://localhost:8080/",
          "height": 265
        },
        "id": "C4HZx7Gndbrh",
        "outputId": "b8a9b6dd-dbd4-4227-c836-9b73a1b6faa6"
      },
      "source": [
        "import numpy as np\n",
        "import matplotlib.pyplot as plt\n",
        "from matplotlib.patches import Ellipse\n",
        "from matplotlib.patches import Polygon\n",
        "\n",
        "\n",
        "fig, ax = plt.subplots(subplot_kw={'aspect': 'equal'})\n",
        "\n",
        "ax.add_artist(Ellipse((0, 0), 4, 2, angle=0, alpha=0.1))\n",
        "ax.add_artist(Ellipse((0, 1), 4, 2, angle=0, alpha=0.1))\n",
        "ax.add_artist(Polygon(np.array([[1,2], [2,5], [1.5,1]]), closed=False))\n",
        "\n",
        "ax.set_xlim(-2.2, 2.2)\n",
        "ax.set_ylim(-2.2, 2.2)\n",
        "\n",
        "plt.show()"
      ],
      "execution_count": null,
      "outputs": [
        {
          "output_type": "display_data",
          "data": {
            "image/png": "[encoded data removed]",
            "text/plain": [
              "<Figure size 432x288 with 1 Axes>"
            ]
          },
          "metadata": {
            "needs_background": "light"
          }
        }
      ]
    }
  ]
}